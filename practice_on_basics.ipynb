{
  "nbformat": 4,
  "nbformat_minor": 0,
  "metadata": {
    "colab": {
      "provenance": []
    },
    "kernelspec": {
      "name": "python3",
      "display_name": "Python 3"
    },
    "language_info": {
      "name": "python"
    }
  },
  "cells": [
    {
      "cell_type": "code",
      "execution_count": null,
      "metadata": {
        "colab": {
          "base_uri": "https://localhost:8080/"
        },
        "id": "QhpWoZhgI21R",
        "outputId": "a2c699fe-0b7d-4fbd-eeaa-870590e887fb"
      },
      "outputs": [
        {
          "output_type": "stream",
          "name": "stdout",
          "text": [
            "Type a degree in celsius: 36\n",
            "36 in Fahrenheit is 96.8\n"
          ]
        }
      ],
      "source": [
        "# Celsius to Fahrenheit Calculator\n",
        "\n",
        "celsiusDegree = int(input(\"Type a degree in celsius: \"))\n",
        "fahrenheitDegree = celsiusDegree * 1.8 + 32\n",
        "\n",
        "print(celsiusDegree, \"in Fahrenheit is\", fahrenheitDegree)"
      ]
    },
    {
      "cell_type": "code",
      "source": [
        "# Interest Calculator\n",
        "\n",
        "principal = int(input(\"Principal: \"))\n",
        "rate = int(input(\"Rate%: \"))\n",
        "time = int(input(\"Time (in years): \"))\n",
        "\n",
        "interest = principal * rate * time / 100\n",
        "\n",
        "print(\"The interest is\", interest)"
      ],
      "metadata": {
        "colab": {
          "base_uri": "https://localhost:8080/"
        },
        "id": "G5Qwr7wVJ_Ma",
        "outputId": "5c27a505-d397-4e77-bcf2-89db6fe68136"
      },
      "execution_count": null,
      "outputs": [
        {
          "output_type": "stream",
          "name": "stdout",
          "text": [
            "Principal: 1000\n",
            "Rate%: 5\n",
            "Time (in years): 3\n",
            "The interest is 150.0\n"
          ]
        }
      ]
    }
  ]
}